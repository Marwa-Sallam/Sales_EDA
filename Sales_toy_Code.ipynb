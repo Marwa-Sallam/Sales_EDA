{
 "cells": [
  {
   "cell_type": "markdown",
   "metadata": {},
   "source": [
    "#  Mexico Toy Analysis"
   ]
  },
  {
   "cell_type": "markdown",
   "metadata": {},
   "source": [
    "## 1.Import Nessesary Libraries"
   ]
  },
  {
   "cell_type": "code",
   "execution_count": 1,
   "metadata": {},
   "outputs": [],
   "source": [
    "import glob\n",
    "import numpy as np\n",
    "import pandas as pd \n",
    "import seaborn as sns\n",
    "import matplotlib.pyplot as plt \n",
    "%matplotlib inline "
   ]
  },
  {
   "cell_type": "code",
   "execution_count": 2,
   "metadata": {},
   "outputs": [],
   "source": [
    "plt.style.use('seaborn-darkgrid')"
   ]
  },
  {
   "cell_type": "markdown",
   "metadata": {},
   "source": [
    "## 2. Load Dataset"
   ]
  },
  {
   "cell_type": "code",
   "execution_count": 3,
   "metadata": {},
   "outputs": [
    {
     "data": {
      "text/plain": [
       "['Dataset\\\\inventory.csv',\n",
       " 'Dataset\\\\products.csv',\n",
       " 'Dataset\\\\sales.csv',\n",
       " 'Dataset\\\\stores.csv']"
      ]
     },
     "execution_count": 3,
     "metadata": {},
     "output_type": "execute_result"
    }
   ],
   "source": [
    "files = glob.glob('Dataset/*.csv')\n",
    "files"
   ]
  },
  {
   "cell_type": "code",
   "execution_count": 4,
   "metadata": {},
   "outputs": [],
   "source": [
    "inventory = pd.read_csv('Dataset\\\\inventory.csv')\n",
    "products = pd.read_csv('Dataset\\\\products.csv')\n",
    "sales = pd.read_csv('Dataset\\\\sales.csv')\n",
    "stores = pd.read_csv('Dataset\\\\stores.csv')"
   ]
  },
  {
   "cell_type": "code",
   "execution_count": 5,
   "metadata": {},
   "outputs": [
    {
     "data": {
      "text/html": [
       "<div>\n",
       "<style scoped>\n",
       "    .dataframe tbody tr th:only-of-type {\n",
       "        vertical-align: middle;\n",
       "    }\n",
       "\n",
       "    .dataframe tbody tr th {\n",
       "        vertical-align: top;\n",
       "    }\n",
       "\n",
       "    .dataframe thead th {\n",
       "        text-align: right;\n",
       "    }\n",
       "</style>\n",
       "<table border=\"1\" class=\"dataframe\">\n",
       "  <thead>\n",
       "    <tr style=\"text-align: right;\">\n",
       "      <th></th>\n",
       "      <th>Store_ID</th>\n",
       "      <th>Product_ID</th>\n",
       "      <th>Stock_On_Hand</th>\n",
       "    </tr>\n",
       "  </thead>\n",
       "  <tbody>\n",
       "    <tr>\n",
       "      <th>124</th>\n",
       "      <td>4</td>\n",
       "      <td>32</td>\n",
       "      <td>6</td>\n",
       "    </tr>\n",
       "  </tbody>\n",
       "</table>\n",
       "</div>"
      ],
      "text/plain": [
       "     Store_ID  Product_ID  Stock_On_Hand\n",
       "124         4          32              6"
      ]
     },
     "execution_count": 5,
     "metadata": {},
     "output_type": "execute_result"
    }
   ],
   "source": [
    "inventory.sample()"
   ]
  },
  {
   "cell_type": "code",
   "execution_count": 6,
   "metadata": {},
   "outputs": [
    {
     "data": {
      "text/html": [
       "<div>\n",
       "<style scoped>\n",
       "    .dataframe tbody tr th:only-of-type {\n",
       "        vertical-align: middle;\n",
       "    }\n",
       "\n",
       "    .dataframe tbody tr th {\n",
       "        vertical-align: top;\n",
       "    }\n",
       "\n",
       "    .dataframe thead th {\n",
       "        text-align: right;\n",
       "    }\n",
       "</style>\n",
       "<table border=\"1\" class=\"dataframe\">\n",
       "  <thead>\n",
       "    <tr style=\"text-align: right;\">\n",
       "      <th></th>\n",
       "      <th>Product_ID</th>\n",
       "      <th>Product_Name</th>\n",
       "      <th>Product_Category</th>\n",
       "      <th>Product_Cost</th>\n",
       "      <th>Product_Price</th>\n",
       "    </tr>\n",
       "  </thead>\n",
       "  <tbody>\n",
       "    <tr>\n",
       "      <th>4</th>\n",
       "      <td>5</td>\n",
       "      <td>Classic Dominoes</td>\n",
       "      <td>Games</td>\n",
       "      <td>$7.99</td>\n",
       "      <td>$9.99</td>\n",
       "    </tr>\n",
       "  </tbody>\n",
       "</table>\n",
       "</div>"
      ],
      "text/plain": [
       "   Product_ID      Product_Name Product_Category Product_Cost Product_Price\n",
       "4           5  Classic Dominoes            Games       $7.99         $9.99 "
      ]
     },
     "execution_count": 6,
     "metadata": {},
     "output_type": "execute_result"
    }
   ],
   "source": [
    "products.sample()"
   ]
  },
  {
   "cell_type": "code",
   "execution_count": 7,
   "metadata": {},
   "outputs": [
    {
     "data": {
      "text/html": [
       "<div>\n",
       "<style scoped>\n",
       "    .dataframe tbody tr th:only-of-type {\n",
       "        vertical-align: middle;\n",
       "    }\n",
       "\n",
       "    .dataframe tbody tr th {\n",
       "        vertical-align: top;\n",
       "    }\n",
       "\n",
       "    .dataframe thead th {\n",
       "        text-align: right;\n",
       "    }\n",
       "</style>\n",
       "<table border=\"1\" class=\"dataframe\">\n",
       "  <thead>\n",
       "    <tr style=\"text-align: right;\">\n",
       "      <th></th>\n",
       "      <th>Sale_ID</th>\n",
       "      <th>Date</th>\n",
       "      <th>Store_ID</th>\n",
       "      <th>Product_ID</th>\n",
       "      <th>Units</th>\n",
       "    </tr>\n",
       "  </thead>\n",
       "  <tbody>\n",
       "    <tr>\n",
       "      <th>220448</th>\n",
       "      <td>220449</td>\n",
       "      <td>2017-07-21</td>\n",
       "      <td>47</td>\n",
       "      <td>31</td>\n",
       "      <td>3</td>\n",
       "    </tr>\n",
       "  </tbody>\n",
       "</table>\n",
       "</div>"
      ],
      "text/plain": [
       "        Sale_ID        Date  Store_ID  Product_ID  Units\n",
       "220448   220449  2017-07-21        47          31      3"
      ]
     },
     "execution_count": 7,
     "metadata": {},
     "output_type": "execute_result"
    }
   ],
   "source": [
    "sales.sample()"
   ]
  },
  {
   "cell_type": "code",
   "execution_count": 8,
   "metadata": {
    "scrolled": true
   },
   "outputs": [
    {
     "data": {
      "text/html": [
       "<div>\n",
       "<style scoped>\n",
       "    .dataframe tbody tr th:only-of-type {\n",
       "        vertical-align: middle;\n",
       "    }\n",
       "\n",
       "    .dataframe tbody tr th {\n",
       "        vertical-align: top;\n",
       "    }\n",
       "\n",
       "    .dataframe thead th {\n",
       "        text-align: right;\n",
       "    }\n",
       "</style>\n",
       "<table border=\"1\" class=\"dataframe\">\n",
       "  <thead>\n",
       "    <tr style=\"text-align: right;\">\n",
       "      <th></th>\n",
       "      <th>Store_ID</th>\n",
       "      <th>Store_Name</th>\n",
       "      <th>Store_City</th>\n",
       "      <th>Store_Location</th>\n",
       "      <th>Store_Open_Date</th>\n",
       "    </tr>\n",
       "  </thead>\n",
       "  <tbody>\n",
       "    <tr>\n",
       "      <th>36</th>\n",
       "      <td>37</td>\n",
       "      <td>Maven Toys Ciudad de Mexico 3</td>\n",
       "      <td>Cuidad de Mexico</td>\n",
       "      <td>Residential</td>\n",
       "      <td>2013-11-28</td>\n",
       "    </tr>\n",
       "  </tbody>\n",
       "</table>\n",
       "</div>"
      ],
      "text/plain": [
       "    Store_ID                     Store_Name        Store_City Store_Location  \\\n",
       "36        37  Maven Toys Ciudad de Mexico 3  Cuidad de Mexico    Residential   \n",
       "\n",
       "   Store_Open_Date  \n",
       "36      2013-11-28  "
      ]
     },
     "execution_count": 8,
     "metadata": {},
     "output_type": "execute_result"
    }
   ],
   "source": [
    "stores.sample()"
   ]
  },
  {
   "cell_type": "markdown",
   "metadata": {},
   "source": [
    "### 3. Join Dataset Files "
   ]
  },
  {
   "cell_type": "code",
   "execution_count": 24,
   "metadata": {},
   "outputs": [],
   "source": [
    "df = pd.merge(sales, stores, how = 'outer', on = 'Store_ID')\n",
    "df = pd.merge(df, products, how = 'outer', on = 'Product_ID')\n",
    "data = pd.merge(df, inventory, how = 'outer', on = ['Product_ID', 'Store_ID'])"
   ]
  },
  {
   "cell_type": "code",
   "execution_count": 25,
   "metadata": {},
   "outputs": [
    {
     "data": {
      "text/html": [
       "<div>\n",
       "<style scoped>\n",
       "    .dataframe tbody tr th:only-of-type {\n",
       "        vertical-align: middle;\n",
       "    }\n",
       "\n",
       "    .dataframe tbody tr th {\n",
       "        vertical-align: top;\n",
       "    }\n",
       "\n",
       "    .dataframe thead th {\n",
       "        text-align: right;\n",
       "    }\n",
       "</style>\n",
       "<table border=\"1\" class=\"dataframe\">\n",
       "  <thead>\n",
       "    <tr style=\"text-align: right;\">\n",
       "      <th></th>\n",
       "      <th>Sale_ID</th>\n",
       "      <th>Date</th>\n",
       "      <th>Store_ID</th>\n",
       "      <th>Product_ID</th>\n",
       "      <th>Units</th>\n",
       "      <th>Store_Name</th>\n",
       "      <th>Store_City</th>\n",
       "      <th>Store_Location</th>\n",
       "      <th>Store_Open_Date</th>\n",
       "      <th>Product_Name</th>\n",
       "      <th>Product_Category</th>\n",
       "      <th>Product_Cost</th>\n",
       "      <th>Product_Price</th>\n",
       "      <th>Stock_On_Hand</th>\n",
       "    </tr>\n",
       "  </thead>\n",
       "  <tbody>\n",
       "    <tr>\n",
       "      <th>0</th>\n",
       "      <td>1.0</td>\n",
       "      <td>2017-01-01</td>\n",
       "      <td>24</td>\n",
       "      <td>4</td>\n",
       "      <td>1.0</td>\n",
       "      <td>Maven Toys Aguascalientes 1</td>\n",
       "      <td>Aguascalientes</td>\n",
       "      <td>Downtown</td>\n",
       "      <td>2010-07-31</td>\n",
       "      <td>Chutes &amp; Ladders</td>\n",
       "      <td>Games</td>\n",
       "      <td>$9.99</td>\n",
       "      <td>$12.99</td>\n",
       "      <td>1.0</td>\n",
       "    </tr>\n",
       "    <tr>\n",
       "      <th>1</th>\n",
       "      <td>66.0</td>\n",
       "      <td>2017-01-01</td>\n",
       "      <td>24</td>\n",
       "      <td>4</td>\n",
       "      <td>1.0</td>\n",
       "      <td>Maven Toys Aguascalientes 1</td>\n",
       "      <td>Aguascalientes</td>\n",
       "      <td>Downtown</td>\n",
       "      <td>2010-07-31</td>\n",
       "      <td>Chutes &amp; Ladders</td>\n",
       "      <td>Games</td>\n",
       "      <td>$9.99</td>\n",
       "      <td>$12.99</td>\n",
       "      <td>1.0</td>\n",
       "    </tr>\n",
       "    <tr>\n",
       "      <th>2</th>\n",
       "      <td>98.0</td>\n",
       "      <td>2017-01-01</td>\n",
       "      <td>24</td>\n",
       "      <td>4</td>\n",
       "      <td>1.0</td>\n",
       "      <td>Maven Toys Aguascalientes 1</td>\n",
       "      <td>Aguascalientes</td>\n",
       "      <td>Downtown</td>\n",
       "      <td>2010-07-31</td>\n",
       "      <td>Chutes &amp; Ladders</td>\n",
       "      <td>Games</td>\n",
       "      <td>$9.99</td>\n",
       "      <td>$12.99</td>\n",
       "      <td>1.0</td>\n",
       "    </tr>\n",
       "    <tr>\n",
       "      <th>3</th>\n",
       "      <td>128.0</td>\n",
       "      <td>2017-01-01</td>\n",
       "      <td>24</td>\n",
       "      <td>4</td>\n",
       "      <td>1.0</td>\n",
       "      <td>Maven Toys Aguascalientes 1</td>\n",
       "      <td>Aguascalientes</td>\n",
       "      <td>Downtown</td>\n",
       "      <td>2010-07-31</td>\n",
       "      <td>Chutes &amp; Ladders</td>\n",
       "      <td>Games</td>\n",
       "      <td>$9.99</td>\n",
       "      <td>$12.99</td>\n",
       "      <td>1.0</td>\n",
       "    </tr>\n",
       "    <tr>\n",
       "      <th>4</th>\n",
       "      <td>146.0</td>\n",
       "      <td>2017-01-01</td>\n",
       "      <td>24</td>\n",
       "      <td>4</td>\n",
       "      <td>1.0</td>\n",
       "      <td>Maven Toys Aguascalientes 1</td>\n",
       "      <td>Aguascalientes</td>\n",
       "      <td>Downtown</td>\n",
       "      <td>2010-07-31</td>\n",
       "      <td>Chutes &amp; Ladders</td>\n",
       "      <td>Games</td>\n",
       "      <td>$9.99</td>\n",
       "      <td>$12.99</td>\n",
       "      <td>1.0</td>\n",
       "    </tr>\n",
       "  </tbody>\n",
       "</table>\n",
       "</div>"
      ],
      "text/plain": [
       "   Sale_ID        Date  Store_ID  Product_ID  Units  \\\n",
       "0      1.0  2017-01-01        24           4    1.0   \n",
       "1     66.0  2017-01-01        24           4    1.0   \n",
       "2     98.0  2017-01-01        24           4    1.0   \n",
       "3    128.0  2017-01-01        24           4    1.0   \n",
       "4    146.0  2017-01-01        24           4    1.0   \n",
       "\n",
       "                    Store_Name      Store_City Store_Location Store_Open_Date  \\\n",
       "0  Maven Toys Aguascalientes 1  Aguascalientes       Downtown      2010-07-31   \n",
       "1  Maven Toys Aguascalientes 1  Aguascalientes       Downtown      2010-07-31   \n",
       "2  Maven Toys Aguascalientes 1  Aguascalientes       Downtown      2010-07-31   \n",
       "3  Maven Toys Aguascalientes 1  Aguascalientes       Downtown      2010-07-31   \n",
       "4  Maven Toys Aguascalientes 1  Aguascalientes       Downtown      2010-07-31   \n",
       "\n",
       "       Product_Name Product_Category Product_Cost Product_Price  Stock_On_Hand  \n",
       "0  Chutes & Ladders            Games       $9.99        $12.99             1.0  \n",
       "1  Chutes & Ladders            Games       $9.99        $12.99             1.0  \n",
       "2  Chutes & Ladders            Games       $9.99        $12.99             1.0  \n",
       "3  Chutes & Ladders            Games       $9.99        $12.99             1.0  \n",
       "4  Chutes & Ladders            Games       $9.99        $12.99             1.0  "
      ]
     },
     "execution_count": 25,
     "metadata": {},
     "output_type": "execute_result"
    }
   ],
   "source": [
    "data.head()"
   ]
  },
  {
   "cell_type": "code",
   "execution_count": 10,
   "metadata": {},
   "outputs": [],
   "source": [
    "#data.to_csv('Sales.csv', index = False)"
   ]
  },
  {
   "cell_type": "code",
   "execution_count": 5,
   "metadata": {},
   "outputs": [
    {
     "data": {
      "text/plain": [
       "(829265, 14)"
      ]
     },
     "execution_count": 5,
     "metadata": {},
     "output_type": "execute_result"
    }
   ],
   "source": [
    "data.shape"
   ]
  },
  {
   "cell_type": "code",
   "execution_count": 6,
   "metadata": {},
   "outputs": [
    {
     "data": {
      "text/plain": [
       "Index(['Sale_ID', 'Date', 'Store_ID', 'Product_ID', 'Units', 'Store_Name',\n",
       "       'Store_City', 'Store_Location', 'Store_Open_Date', 'Product_Name',\n",
       "       'Product_Category', 'Product_Cost', 'Product_Price', 'Stock_On_Hand'],\n",
       "      dtype='object')"
      ]
     },
     "execution_count": 6,
     "metadata": {},
     "output_type": "execute_result"
    }
   ],
   "source": [
    "data.columns"
   ]
  },
  {
   "cell_type": "markdown",
   "metadata": {},
   "source": [
    "##  4. Data Cleaning"
   ]
  },
  {
   "cell_type": "markdown",
   "metadata": {},
   "source": [
    "### 4.1. Checking Null Values"
   ]
  },
  {
   "cell_type": "code",
   "execution_count": 26,
   "metadata": {},
   "outputs": [
    {
     "data": {
      "text/plain": [
       "Sale_ID                3\n",
       "Date                   3\n",
       "Store_ID               0\n",
       "Product_ID             0\n",
       "Units                  3\n",
       "Store_Name             3\n",
       "Store_City             3\n",
       "Store_Location         3\n",
       "Store_Open_Date        3\n",
       "Product_Name           3\n",
       "Product_Category       3\n",
       "Product_Cost           3\n",
       "Product_Price          3\n",
       "Stock_On_Hand       6232\n",
       "dtype: int64"
      ]
     },
     "execution_count": 26,
     "metadata": {},
     "output_type": "execute_result"
    }
   ],
   "source": [
    "data.isna().sum()"
   ]
  },
  {
   "cell_type": "code",
   "execution_count": 14,
   "metadata": {},
   "outputs": [
    {
     "data": {
      "text/plain": [
       "0.007515088662852044"
      ]
     },
     "execution_count": 14,
     "metadata": {},
     "output_type": "execute_result"
    }
   ],
   "source": [
    "#6232/829265"
   ]
  },
  {
   "cell_type": "code",
   "execution_count": 27,
   "metadata": {},
   "outputs": [],
   "source": [
    "data = data.dropna()"
   ]
  },
  {
   "cell_type": "code",
   "execution_count": 28,
   "metadata": {},
   "outputs": [
    {
     "data": {
      "text/plain": [
       "(823030, 14)"
      ]
     },
     "execution_count": 28,
     "metadata": {},
     "output_type": "execute_result"
    }
   ],
   "source": [
    "data.shape"
   ]
  },
  {
   "cell_type": "code",
   "execution_count": 29,
   "metadata": {},
   "outputs": [
    {
     "data": {
      "text/plain": [
       "Sale_ID             0\n",
       "Date                0\n",
       "Store_ID            0\n",
       "Product_ID          0\n",
       "Units               0\n",
       "Store_Name          0\n",
       "Store_City          0\n",
       "Store_Location      0\n",
       "Store_Open_Date     0\n",
       "Product_Name        0\n",
       "Product_Category    0\n",
       "Product_Cost        0\n",
       "Product_Price       0\n",
       "Stock_On_Hand       0\n",
       "dtype: int64"
      ]
     },
     "execution_count": 29,
     "metadata": {},
     "output_type": "execute_result"
    }
   ],
   "source": [
    "data.isna().sum()"
   ]
  },
  {
   "cell_type": "markdown",
   "metadata": {},
   "source": [
    "### 4.2. Checking Duplicates "
   ]
  },
  {
   "cell_type": "code",
   "execution_count": 30,
   "metadata": {},
   "outputs": [
    {
     "data": {
      "text/plain": [
       "0"
      ]
     },
     "execution_count": 30,
     "metadata": {},
     "output_type": "execute_result"
    }
   ],
   "source": [
    "data.duplicated().sum()"
   ]
  },
  {
   "cell_type": "markdown",
   "metadata": {},
   "source": [
    "## 5. EDA "
   ]
  },
  {
   "cell_type": "markdown",
   "metadata": {},
   "source": [
    "### Extract day, month and year from date"
   ]
  },
  {
   "cell_type": "code",
   "execution_count": 31,
   "metadata": {},
   "outputs": [
    {
     "data": {
      "text/plain": [
       "Sale_ID             float64\n",
       "Date                 object\n",
       "Store_ID              int64\n",
       "Product_ID            int64\n",
       "Units               float64\n",
       "Store_Name           object\n",
       "Store_City           object\n",
       "Store_Location       object\n",
       "Store_Open_Date      object\n",
       "Product_Name         object\n",
       "Product_Category     object\n",
       "Product_Cost         object\n",
       "Product_Price        object\n",
       "Stock_On_Hand       float64\n",
       "dtype: object"
      ]
     },
     "execution_count": 31,
     "metadata": {},
     "output_type": "execute_result"
    }
   ],
   "source": [
    "data.dtypes"
   ]
  },
  {
   "cell_type": "code",
   "execution_count": 32,
   "metadata": {},
   "outputs": [],
   "source": [
    "data['Date'] = pd.to_datetime(data['Date'])"
   ]
  },
  {
   "cell_type": "code",
   "execution_count": 33,
   "metadata": {},
   "outputs": [
    {
     "data": {
      "text/plain": [
       "Sale_ID                    float64\n",
       "Date                datetime64[ns]\n",
       "Store_ID                     int64\n",
       "Product_ID                   int64\n",
       "Units                      float64\n",
       "Store_Name                  object\n",
       "Store_City                  object\n",
       "Store_Location              object\n",
       "Store_Open_Date             object\n",
       "Product_Name                object\n",
       "Product_Category            object\n",
       "Product_Cost                object\n",
       "Product_Price               object\n",
       "Stock_On_Hand              float64\n",
       "dtype: object"
      ]
     },
     "execution_count": 33,
     "metadata": {},
     "output_type": "execute_result"
    }
   ],
   "source": [
    "data.dtypes"
   ]
  },
  {
   "cell_type": "code",
   "execution_count": 34,
   "metadata": {},
   "outputs": [],
   "source": [
    "data['Sales_Day'] = data['Date'].dt.day_name()\n",
    "data['Sales_Month'] = data['Date'].dt.month_name()\n",
    "data['Sales_Year'] = data['Date'].dt.year"
   ]
  },
  {
   "cell_type": "code",
   "execution_count": 11,
   "metadata": {},
   "outputs": [
    {
     "data": {
      "text/html": [
       "<div>\n",
       "<style scoped>\n",
       "    .dataframe tbody tr th:only-of-type {\n",
       "        vertical-align: middle;\n",
       "    }\n",
       "\n",
       "    .dataframe tbody tr th {\n",
       "        vertical-align: top;\n",
       "    }\n",
       "\n",
       "    .dataframe thead th {\n",
       "        text-align: right;\n",
       "    }\n",
       "</style>\n",
       "<table border=\"1\" class=\"dataframe\">\n",
       "  <thead>\n",
       "    <tr style=\"text-align: right;\">\n",
       "      <th></th>\n",
       "      <th>Sale_ID</th>\n",
       "      <th>Date</th>\n",
       "      <th>Store_ID</th>\n",
       "      <th>Product_ID</th>\n",
       "      <th>Units</th>\n",
       "      <th>Store_Name</th>\n",
       "      <th>Store_City</th>\n",
       "      <th>Store_Location</th>\n",
       "      <th>Store_Open_Date</th>\n",
       "      <th>Product_Name</th>\n",
       "      <th>Product_Category</th>\n",
       "      <th>Product_Cost</th>\n",
       "      <th>Product_Price</th>\n",
       "      <th>Stock_On_Hand</th>\n",
       "    </tr>\n",
       "  </thead>\n",
       "  <tbody>\n",
       "    <tr>\n",
       "      <th>0</th>\n",
       "      <td>1.0</td>\n",
       "      <td>2017-01-01</td>\n",
       "      <td>24</td>\n",
       "      <td>4</td>\n",
       "      <td>1.0</td>\n",
       "      <td>Maven Toys Aguascalientes 1</td>\n",
       "      <td>Aguascalientes</td>\n",
       "      <td>Downtown</td>\n",
       "      <td>2010-07-31</td>\n",
       "      <td>Chutes &amp; Ladders</td>\n",
       "      <td>Games</td>\n",
       "      <td>$9.99</td>\n",
       "      <td>$12.99</td>\n",
       "      <td>1.0</td>\n",
       "    </tr>\n",
       "    <tr>\n",
       "      <th>1</th>\n",
       "      <td>66.0</td>\n",
       "      <td>2017-01-01</td>\n",
       "      <td>24</td>\n",
       "      <td>4</td>\n",
       "      <td>1.0</td>\n",
       "      <td>Maven Toys Aguascalientes 1</td>\n",
       "      <td>Aguascalientes</td>\n",
       "      <td>Downtown</td>\n",
       "      <td>2010-07-31</td>\n",
       "      <td>Chutes &amp; Ladders</td>\n",
       "      <td>Games</td>\n",
       "      <td>$9.99</td>\n",
       "      <td>$12.99</td>\n",
       "      <td>1.0</td>\n",
       "    </tr>\n",
       "    <tr>\n",
       "      <th>2</th>\n",
       "      <td>98.0</td>\n",
       "      <td>2017-01-01</td>\n",
       "      <td>24</td>\n",
       "      <td>4</td>\n",
       "      <td>1.0</td>\n",
       "      <td>Maven Toys Aguascalientes 1</td>\n",
       "      <td>Aguascalientes</td>\n",
       "      <td>Downtown</td>\n",
       "      <td>2010-07-31</td>\n",
       "      <td>Chutes &amp; Ladders</td>\n",
       "      <td>Games</td>\n",
       "      <td>$9.99</td>\n",
       "      <td>$12.99</td>\n",
       "      <td>1.0</td>\n",
       "    </tr>\n",
       "    <tr>\n",
       "      <th>3</th>\n",
       "      <td>128.0</td>\n",
       "      <td>2017-01-01</td>\n",
       "      <td>24</td>\n",
       "      <td>4</td>\n",
       "      <td>1.0</td>\n",
       "      <td>Maven Toys Aguascalientes 1</td>\n",
       "      <td>Aguascalientes</td>\n",
       "      <td>Downtown</td>\n",
       "      <td>2010-07-31</td>\n",
       "      <td>Chutes &amp; Ladders</td>\n",
       "      <td>Games</td>\n",
       "      <td>$9.99</td>\n",
       "      <td>$12.99</td>\n",
       "      <td>1.0</td>\n",
       "    </tr>\n",
       "    <tr>\n",
       "      <th>4</th>\n",
       "      <td>146.0</td>\n",
       "      <td>2017-01-01</td>\n",
       "      <td>24</td>\n",
       "      <td>4</td>\n",
       "      <td>1.0</td>\n",
       "      <td>Maven Toys Aguascalientes 1</td>\n",
       "      <td>Aguascalientes</td>\n",
       "      <td>Downtown</td>\n",
       "      <td>2010-07-31</td>\n",
       "      <td>Chutes &amp; Ladders</td>\n",
       "      <td>Games</td>\n",
       "      <td>$9.99</td>\n",
       "      <td>$12.99</td>\n",
       "      <td>1.0</td>\n",
       "    </tr>\n",
       "  </tbody>\n",
       "</table>\n",
       "</div>"
      ],
      "text/plain": [
       "   Sale_ID        Date  Store_ID  Product_ID  Units  \\\n",
       "0      1.0  2017-01-01        24           4    1.0   \n",
       "1     66.0  2017-01-01        24           4    1.0   \n",
       "2     98.0  2017-01-01        24           4    1.0   \n",
       "3    128.0  2017-01-01        24           4    1.0   \n",
       "4    146.0  2017-01-01        24           4    1.0   \n",
       "\n",
       "                    Store_Name      Store_City Store_Location Store_Open_Date  \\\n",
       "0  Maven Toys Aguascalientes 1  Aguascalientes       Downtown      2010-07-31   \n",
       "1  Maven Toys Aguascalientes 1  Aguascalientes       Downtown      2010-07-31   \n",
       "2  Maven Toys Aguascalientes 1  Aguascalientes       Downtown      2010-07-31   \n",
       "3  Maven Toys Aguascalientes 1  Aguascalientes       Downtown      2010-07-31   \n",
       "4  Maven Toys Aguascalientes 1  Aguascalientes       Downtown      2010-07-31   \n",
       "\n",
       "       Product_Name Product_Category Product_Cost Product_Price  Stock_On_Hand  \n",
       "0  Chutes & Ladders            Games       $9.99        $12.99             1.0  \n",
       "1  Chutes & Ladders            Games       $9.99        $12.99             1.0  \n",
       "2  Chutes & Ladders            Games       $9.99        $12.99             1.0  \n",
       "3  Chutes & Ladders            Games       $9.99        $12.99             1.0  \n",
       "4  Chutes & Ladders            Games       $9.99        $12.99             1.0  "
      ]
     },
     "execution_count": 11,
     "metadata": {},
     "output_type": "execute_result"
    }
   ],
   "source": [
    "data.head()"
   ]
  },
  {
   "cell_type": "code",
   "execution_count": 35,
   "metadata": {},
   "outputs": [],
   "source": [
    "data['Product_Cost'] = data['Product_Cost'].str.lstrip('$').astype(float)\n",
    "data['Product_Price'] = data['Product_Price'].str.lstrip('$').astype(float)"
   ]
  },
  {
   "cell_type": "code",
   "execution_count": 36,
   "metadata": {},
   "outputs": [],
   "source": [
    "# Cost\n",
    "data['Cost'] = data['Product_Cost'] * data['Units']\n",
    "\n",
    "# Price\n",
    "data['Price'] = data['Product_Price'] * data['Units']"
   ]
  },
  {
   "cell_type": "markdown",
   "metadata": {},
   "source": [
    "#### I will add new column that calculate the profit "
   ]
  },
  {
   "cell_type": "code",
   "execution_count": 37,
   "metadata": {},
   "outputs": [],
   "source": [
    "data['Profit'] = data['Price'] - data['Cost']"
   ]
  },
  {
   "cell_type": "code",
   "execution_count": 38,
   "metadata": {},
   "outputs": [
    {
     "data": {
      "text/html": [
       "<div>\n",
       "<style scoped>\n",
       "    .dataframe tbody tr th:only-of-type {\n",
       "        vertical-align: middle;\n",
       "    }\n",
       "\n",
       "    .dataframe tbody tr th {\n",
       "        vertical-align: top;\n",
       "    }\n",
       "\n",
       "    .dataframe thead th {\n",
       "        text-align: right;\n",
       "    }\n",
       "</style>\n",
       "<table border=\"1\" class=\"dataframe\">\n",
       "  <thead>\n",
       "    <tr style=\"text-align: right;\">\n",
       "      <th></th>\n",
       "      <th>Sale_ID</th>\n",
       "      <th>Date</th>\n",
       "      <th>Store_ID</th>\n",
       "      <th>Product_ID</th>\n",
       "      <th>Units</th>\n",
       "      <th>Store_Name</th>\n",
       "      <th>Store_City</th>\n",
       "      <th>Store_Location</th>\n",
       "      <th>Store_Open_Date</th>\n",
       "      <th>Product_Name</th>\n",
       "      <th>Product_Category</th>\n",
       "      <th>Product_Cost</th>\n",
       "      <th>Product_Price</th>\n",
       "      <th>Stock_On_Hand</th>\n",
       "      <th>Sales_Day</th>\n",
       "      <th>Sales_Month</th>\n",
       "      <th>Sales_Year</th>\n",
       "      <th>Cost</th>\n",
       "      <th>Price</th>\n",
       "      <th>Profit</th>\n",
       "    </tr>\n",
       "  </thead>\n",
       "  <tbody>\n",
       "    <tr>\n",
       "      <th>0</th>\n",
       "      <td>1.0</td>\n",
       "      <td>2017-01-01</td>\n",
       "      <td>24</td>\n",
       "      <td>4</td>\n",
       "      <td>1.0</td>\n",
       "      <td>Maven Toys Aguascalientes 1</td>\n",
       "      <td>Aguascalientes</td>\n",
       "      <td>Downtown</td>\n",
       "      <td>2010-07-31</td>\n",
       "      <td>Chutes &amp; Ladders</td>\n",
       "      <td>Games</td>\n",
       "      <td>9.99</td>\n",
       "      <td>12.99</td>\n",
       "      <td>1.0</td>\n",
       "      <td>Sunday</td>\n",
       "      <td>January</td>\n",
       "      <td>2017</td>\n",
       "      <td>9.99</td>\n",
       "      <td>12.99</td>\n",
       "      <td>3.0</td>\n",
       "    </tr>\n",
       "    <tr>\n",
       "      <th>1</th>\n",
       "      <td>66.0</td>\n",
       "      <td>2017-01-01</td>\n",
       "      <td>24</td>\n",
       "      <td>4</td>\n",
       "      <td>1.0</td>\n",
       "      <td>Maven Toys Aguascalientes 1</td>\n",
       "      <td>Aguascalientes</td>\n",
       "      <td>Downtown</td>\n",
       "      <td>2010-07-31</td>\n",
       "      <td>Chutes &amp; Ladders</td>\n",
       "      <td>Games</td>\n",
       "      <td>9.99</td>\n",
       "      <td>12.99</td>\n",
       "      <td>1.0</td>\n",
       "      <td>Sunday</td>\n",
       "      <td>January</td>\n",
       "      <td>2017</td>\n",
       "      <td>9.99</td>\n",
       "      <td>12.99</td>\n",
       "      <td>3.0</td>\n",
       "    </tr>\n",
       "    <tr>\n",
       "      <th>2</th>\n",
       "      <td>98.0</td>\n",
       "      <td>2017-01-01</td>\n",
       "      <td>24</td>\n",
       "      <td>4</td>\n",
       "      <td>1.0</td>\n",
       "      <td>Maven Toys Aguascalientes 1</td>\n",
       "      <td>Aguascalientes</td>\n",
       "      <td>Downtown</td>\n",
       "      <td>2010-07-31</td>\n",
       "      <td>Chutes &amp; Ladders</td>\n",
       "      <td>Games</td>\n",
       "      <td>9.99</td>\n",
       "      <td>12.99</td>\n",
       "      <td>1.0</td>\n",
       "      <td>Sunday</td>\n",
       "      <td>January</td>\n",
       "      <td>2017</td>\n",
       "      <td>9.99</td>\n",
       "      <td>12.99</td>\n",
       "      <td>3.0</td>\n",
       "    </tr>\n",
       "    <tr>\n",
       "      <th>3</th>\n",
       "      <td>128.0</td>\n",
       "      <td>2017-01-01</td>\n",
       "      <td>24</td>\n",
       "      <td>4</td>\n",
       "      <td>1.0</td>\n",
       "      <td>Maven Toys Aguascalientes 1</td>\n",
       "      <td>Aguascalientes</td>\n",
       "      <td>Downtown</td>\n",
       "      <td>2010-07-31</td>\n",
       "      <td>Chutes &amp; Ladders</td>\n",
       "      <td>Games</td>\n",
       "      <td>9.99</td>\n",
       "      <td>12.99</td>\n",
       "      <td>1.0</td>\n",
       "      <td>Sunday</td>\n",
       "      <td>January</td>\n",
       "      <td>2017</td>\n",
       "      <td>9.99</td>\n",
       "      <td>12.99</td>\n",
       "      <td>3.0</td>\n",
       "    </tr>\n",
       "    <tr>\n",
       "      <th>4</th>\n",
       "      <td>146.0</td>\n",
       "      <td>2017-01-01</td>\n",
       "      <td>24</td>\n",
       "      <td>4</td>\n",
       "      <td>1.0</td>\n",
       "      <td>Maven Toys Aguascalientes 1</td>\n",
       "      <td>Aguascalientes</td>\n",
       "      <td>Downtown</td>\n",
       "      <td>2010-07-31</td>\n",
       "      <td>Chutes &amp; Ladders</td>\n",
       "      <td>Games</td>\n",
       "      <td>9.99</td>\n",
       "      <td>12.99</td>\n",
       "      <td>1.0</td>\n",
       "      <td>Sunday</td>\n",
       "      <td>January</td>\n",
       "      <td>2017</td>\n",
       "      <td>9.99</td>\n",
       "      <td>12.99</td>\n",
       "      <td>3.0</td>\n",
       "    </tr>\n",
       "  </tbody>\n",
       "</table>\n",
       "</div>"
      ],
      "text/plain": [
       "   Sale_ID       Date  Store_ID  Product_ID  Units  \\\n",
       "0      1.0 2017-01-01        24           4    1.0   \n",
       "1     66.0 2017-01-01        24           4    1.0   \n",
       "2     98.0 2017-01-01        24           4    1.0   \n",
       "3    128.0 2017-01-01        24           4    1.0   \n",
       "4    146.0 2017-01-01        24           4    1.0   \n",
       "\n",
       "                    Store_Name      Store_City Store_Location Store_Open_Date  \\\n",
       "0  Maven Toys Aguascalientes 1  Aguascalientes       Downtown      2010-07-31   \n",
       "1  Maven Toys Aguascalientes 1  Aguascalientes       Downtown      2010-07-31   \n",
       "2  Maven Toys Aguascalientes 1  Aguascalientes       Downtown      2010-07-31   \n",
       "3  Maven Toys Aguascalientes 1  Aguascalientes       Downtown      2010-07-31   \n",
       "4  Maven Toys Aguascalientes 1  Aguascalientes       Downtown      2010-07-31   \n",
       "\n",
       "       Product_Name Product_Category  Product_Cost  Product_Price  \\\n",
       "0  Chutes & Ladders            Games          9.99          12.99   \n",
       "1  Chutes & Ladders            Games          9.99          12.99   \n",
       "2  Chutes & Ladders            Games          9.99          12.99   \n",
       "3  Chutes & Ladders            Games          9.99          12.99   \n",
       "4  Chutes & Ladders            Games          9.99          12.99   \n",
       "\n",
       "   Stock_On_Hand Sales_Day Sales_Month  Sales_Year  Cost  Price  Profit  \n",
       "0            1.0    Sunday     January        2017  9.99  12.99     3.0  \n",
       "1            1.0    Sunday     January        2017  9.99  12.99     3.0  \n",
       "2            1.0    Sunday     January        2017  9.99  12.99     3.0  \n",
       "3            1.0    Sunday     January        2017  9.99  12.99     3.0  \n",
       "4            1.0    Sunday     January        2017  9.99  12.99     3.0  "
      ]
     },
     "execution_count": 38,
     "metadata": {},
     "output_type": "execute_result"
    }
   ],
   "source": [
    "data.head()"
   ]
  },
  {
   "cell_type": "code",
   "execution_count": 17,
   "metadata": {},
   "outputs": [],
   "source": [
    "data.to_csv('Sales_toy_analysis.csv', index = False)"
   ]
  },
  {
   "cell_type": "markdown",
   "metadata": {},
   "source": [
    "### Q1. What is the product category that achieve maximum profit ? "
   ]
  },
  {
   "cell_type": "code",
   "execution_count": 39,
   "metadata": {},
   "outputs": [
    {
     "name": "stdout",
     "output_type": "stream",
     "text": [
      "Maximum profit is  149.99999999999997\n"
     ]
    }
   ],
   "source": [
    "max_profit = data['Profit'].max()\n",
    "print(\"Maximum profit is \",max_profit)"
   ]
  },
  {
   "cell_type": "code",
   "execution_count": 40,
   "metadata": {},
   "outputs": [
    {
     "name": "stdout",
     "output_type": "stream",
     "text": [
      "Product Category that achieved maximum profit is  ['Games']\n"
     ]
    }
   ],
   "source": [
    "Product_Category = data['Product_Category'][data['Profit'] == max_profit ].unique()\n",
    "print(\"Product Category that achieved maximum profit is \", Product_Category)"
   ]
  },
  {
   "cell_type": "markdown",
   "metadata": {},
   "source": [
    "### Q2. Is maximum profit achieved in all locations ?  "
   ]
  },
  {
   "cell_type": "code",
   "execution_count": 41,
   "metadata": {},
   "outputs": [
    {
     "data": {
      "text/plain": [
       "array(['Downtown', 'Commercial', 'Residential', 'Airport'], dtype=object)"
      ]
     },
     "execution_count": 41,
     "metadata": {},
     "output_type": "execute_result"
    }
   ],
   "source": [
    "data['Store_Location'].unique()"
   ]
  },
  {
   "cell_type": "code",
   "execution_count": 42,
   "metadata": {},
   "outputs": [
    {
     "name": "stdout",
     "output_type": "stream",
     "text": [
      "Store Location that achieved maximum profit is  ['Downtown']\n"
     ]
    }
   ],
   "source": [
    "Store_Location = data['Store_Location'][data['Profit'] == max_profit ].unique()\n",
    "print(\"Store Location that achieved maximum profit is \", Store_Location)"
   ]
  },
  {
   "cell_type": "markdown",
   "metadata": {},
   "source": [
    "### Q3. What is the total profit for each location ?"
   ]
  },
  {
   "cell_type": "code",
   "execution_count": 43,
   "metadata": {},
   "outputs": [
    {
     "name": "stdout",
     "output_type": "stream",
     "text": [
      "Store_Location\n",
      "Airport         371182.0\n",
      "Commercial      916257.0\n",
      "Downtown       2221455.0\n",
      "Residential     458435.0\n",
      "Name: Profit, dtype: float64\n",
      "Profit by location values are  [ 371182.  916257. 2221455.  458435.]\n"
     ]
    }
   ],
   "source": [
    "Profit_by_location = data['Profit'].groupby(data['Store_Location']).sum()\n",
    "print(Profit_by_location)\n",
    "values = Profit_by_location.values\n",
    "print(\"Profit by location values are \", values )"
   ]
  },
  {
   "cell_type": "code",
   "execution_count": 44,
   "metadata": {},
   "outputs": [
    {
     "data": {
      "image/png": "[encoded data removed]",
      "text/plain": [
       "<Figure size 1008x504 with 1 Axes>"
      ]
     },
     "metadata": {},
     "output_type": "display_data"
    }
   ],
   "source": [
    "plt.figure(figsize=(14,7))\n",
    "\n",
    "colors = ['#8ECDDD','#E8AA42','#22668D', '#FFE5B4']\n",
    "plt.pie(Profit_by_location.values, labels=Profit_by_location.index , colors=colors, autopct='%.0f%%', textprops={'size':17})\n",
    "        #explode=(0.02, 0.02, 0.02, 0.02))\n",
    "plt.ylabel('Store Location', fontweight=\"bold\", fontsize = 14, color = 'black' )\n",
    "plt.title('Total Profit for Each Store Location', fontweight=\"bold\", fontsize = 14, color = 'black' )\n",
    "plt.show()"
   ]
  },
  {
   "cell_type": "markdown",
   "metadata": {},
   "source": [
    "### Q4. What is the total profit for each city ?"
   ]
  },
  {
   "cell_type": "code",
   "execution_count": 29,
   "metadata": {},
   "outputs": [
    {
     "data": {
      "text/plain": [
       "29"
      ]
     },
     "execution_count": 29,
     "metadata": {},
     "output_type": "execute_result"
    }
   ],
   "source": [
    "# the number of store cites\n",
    "data['Store_City'].nunique()"
   ]
  },
  {
   "cell_type": "code",
   "execution_count": 45,
   "metadata": {},
   "outputs": [
    {
     "data": {
      "text/html": [
       "<div>\n",
       "<style scoped>\n",
       "    .dataframe tbody tr th:only-of-type {\n",
       "        vertical-align: middle;\n",
       "    }\n",
       "\n",
       "    .dataframe tbody tr th {\n",
       "        vertical-align: top;\n",
       "    }\n",
       "\n",
       "    .dataframe thead tr th {\n",
       "        text-align: left;\n",
       "    }\n",
       "\n",
       "    .dataframe thead tr:last-of-type th {\n",
       "        text-align: right;\n",
       "    }\n",
       "</style>\n",
       "<table border=\"1\" class=\"dataframe\">\n",
       "  <thead>\n",
       "    <tr>\n",
       "      <th></th>\n",
       "      <th colspan=\"2\" halign=\"left\">Profit</th>\n",
       "    </tr>\n",
       "    <tr>\n",
       "      <th></th>\n",
       "      <th>sum</th>\n",
       "      <th>mean</th>\n",
       "    </tr>\n",
       "    <tr>\n",
       "      <th>Store_City</th>\n",
       "      <th></th>\n",
       "      <th></th>\n",
       "    </tr>\n",
       "  </thead>\n",
       "  <tbody>\n",
       "    <tr>\n",
       "      <th>Aguascalientes</th>\n",
       "      <td>68642.0</td>\n",
       "      <td>4.705374</td>\n",
       "    </tr>\n",
       "    <tr>\n",
       "      <th>Campeche</th>\n",
       "      <td>146339.0</td>\n",
       "      <td>4.798000</td>\n",
       "    </tr>\n",
       "    <tr>\n",
       "      <th>Chetumal</th>\n",
       "      <td>67940.0</td>\n",
       "      <td>4.639443</td>\n",
       "    </tr>\n",
       "    <tr>\n",
       "      <th>Chihuahua</th>\n",
       "      <td>146868.0</td>\n",
       "      <td>4.803061</td>\n",
       "    </tr>\n",
       "    <tr>\n",
       "      <th>Chilpancingo</th>\n",
       "      <td>65291.0</td>\n",
       "      <td>4.522164</td>\n",
       "    </tr>\n",
       "    <tr>\n",
       "      <th>Ciudad Victoria</th>\n",
       "      <td>81912.0</td>\n",
       "      <td>5.162738</td>\n",
       "    </tr>\n",
       "    <tr>\n",
       "      <th>Cuernavaca</th>\n",
       "      <td>54425.0</td>\n",
       "      <td>4.081365</td>\n",
       "    </tr>\n",
       "    <tr>\n",
       "      <th>Cuidad de Mexico</th>\n",
       "      <td>459153.0</td>\n",
       "      <td>5.103458</td>\n",
       "    </tr>\n",
       "    <tr>\n",
       "      <th>Culiacan</th>\n",
       "      <td>63959.0</td>\n",
       "      <td>4.382554</td>\n",
       "    </tr>\n",
       "    <tr>\n",
       "      <th>Durango</th>\n",
       "      <td>61672.0</td>\n",
       "      <td>4.415551</td>\n",
       "    </tr>\n",
       "    <tr>\n",
       "      <th>Guadalajara</th>\n",
       "      <td>362728.0</td>\n",
       "      <td>4.933799</td>\n",
       "    </tr>\n",
       "    <tr>\n",
       "      <th>Guanajuato</th>\n",
       "      <td>234921.0</td>\n",
       "      <td>4.774623</td>\n",
       "    </tr>\n",
       "    <tr>\n",
       "      <th>Hermosillo</th>\n",
       "      <td>263174.0</td>\n",
       "      <td>5.287485</td>\n",
       "    </tr>\n",
       "    <tr>\n",
       "      <th>La Paz</th>\n",
       "      <td>55406.0</td>\n",
       "      <td>4.287063</td>\n",
       "    </tr>\n",
       "    <tr>\n",
       "      <th>Merida</th>\n",
       "      <td>64399.0</td>\n",
       "      <td>4.329345</td>\n",
       "    </tr>\n",
       "    <tr>\n",
       "      <th>Mexicali</th>\n",
       "      <td>173235.0</td>\n",
       "      <td>5.156417</td>\n",
       "    </tr>\n",
       "    <tr>\n",
       "      <th>Monterrey</th>\n",
       "      <td>343209.0</td>\n",
       "      <td>4.983215</td>\n",
       "    </tr>\n",
       "    <tr>\n",
       "      <th>Morelia</th>\n",
       "      <td>90484.0</td>\n",
       "      <td>6.050013</td>\n",
       "    </tr>\n",
       "    <tr>\n",
       "      <th>Oaxaca</th>\n",
       "      <td>57987.0</td>\n",
       "      <td>4.219999</td>\n",
       "    </tr>\n",
       "    <tr>\n",
       "      <th>Pachuca</th>\n",
       "      <td>63989.0</td>\n",
       "      <td>4.274768</td>\n",
       "    </tr>\n",
       "    <tr>\n",
       "      <th>Puebla</th>\n",
       "      <td>226985.0</td>\n",
       "      <td>4.821364</td>\n",
       "    </tr>\n",
       "    <tr>\n",
       "      <th>Saltillo</th>\n",
       "      <td>163248.0</td>\n",
       "      <td>4.933454</td>\n",
       "    </tr>\n",
       "    <tr>\n",
       "      <th>San Luis Potosi</th>\n",
       "      <td>68880.0</td>\n",
       "      <td>4.444158</td>\n",
       "    </tr>\n",
       "    <tr>\n",
       "      <th>Santiago</th>\n",
       "      <td>71165.0</td>\n",
       "      <td>4.483399</td>\n",
       "    </tr>\n",
       "    <tr>\n",
       "      <th>Toluca</th>\n",
       "      <td>155937.0</td>\n",
       "      <td>4.409235</td>\n",
       "    </tr>\n",
       "    <tr>\n",
       "      <th>Tuxtla Gutierrez</th>\n",
       "      <td>64531.0</td>\n",
       "      <td>4.468596</td>\n",
       "    </tr>\n",
       "    <tr>\n",
       "      <th>Villahermosa</th>\n",
       "      <td>74221.0</td>\n",
       "      <td>4.546741</td>\n",
       "    </tr>\n",
       "    <tr>\n",
       "      <th>Xalapa</th>\n",
       "      <td>159128.0</td>\n",
       "      <td>4.794890</td>\n",
       "    </tr>\n",
       "    <tr>\n",
       "      <th>Zacatecas</th>\n",
       "      <td>57501.0</td>\n",
       "      <td>4.335118</td>\n",
       "    </tr>\n",
       "  </tbody>\n",
       "</table>\n",
       "</div>"
      ],
      "text/plain": [
       "                    Profit          \n",
       "                       sum      mean\n",
       "Store_City                          \n",
       "Aguascalientes     68642.0  4.705374\n",
       "Campeche          146339.0  4.798000\n",
       "Chetumal           67940.0  4.639443\n",
       "Chihuahua         146868.0  4.803061\n",
       "Chilpancingo       65291.0  4.522164\n",
       "Ciudad Victoria    81912.0  5.162738\n",
       "Cuernavaca         54425.0  4.081365\n",
       "Cuidad de Mexico  459153.0  5.103458\n",
       "Culiacan           63959.0  4.382554\n",
       "Durango            61672.0  4.415551\n",
       "Guadalajara       362728.0  4.933799\n",
       "Guanajuato        234921.0  4.774623\n",
       "Hermosillo        263174.0  5.287485\n",
       "La Paz             55406.0  4.287063\n",
       "Merida             64399.0  4.329345\n",
       "Mexicali          173235.0  5.156417\n",
       "Monterrey         343209.0  4.983215\n",
       "Morelia            90484.0  6.050013\n",
       "Oaxaca             57987.0  4.219999\n",
       "Pachuca            63989.0  4.274768\n",
       "Puebla            226985.0  4.821364\n",
       "Saltillo          163248.0  4.933454\n",
       "San Luis Potosi    68880.0  4.444158\n",
       "Santiago           71165.0  4.483399\n",
       "Toluca            155937.0  4.409235\n",
       "Tuxtla Gutierrez   64531.0  4.468596\n",
       "Villahermosa       74221.0  4.546741\n",
       "Xalapa            159128.0  4.794890\n",
       "Zacatecas          57501.0  4.335118"
      ]
     },
     "execution_count": 45,
     "metadata": {},
     "output_type": "execute_result"
    }
   ],
   "source": [
    "total_Profit_by_city= data['Profit'].groupby(data['Store_City']).sum().sort_values( ascending = False)\n",
    "Profit_by_city= data.groupby(data['Store_City'])[['Profit']].agg(['sum', 'mean'])\n",
    "\n",
    "# create dataframe for the result\n",
    "#columns_names = ['sum', 'mean']\n",
    "#df = pd.DataFrame(Profit_by_city,  columns=columns_names)\n",
    "#df\n",
    "Profit_by_city"
   ]
  },
  {
   "cell_type": "code",
   "execution_count": 46,
   "metadata": {},
   "outputs": [
    {
     "data": {
      "image/png": "[encoded data removed]",
      "text/plain": [
       "<Figure size 576x504 with 1 Axes>"
      ]
     },
     "metadata": {},
     "output_type": "display_data"
    }
   ],
   "source": [
    "plt.figure(figsize=(8,7))\n",
    "sns.barplot(x=total_Profit_by_city.values, y= total_Profit_by_city.index, orient=\"h\")\n",
    "plt.xlabel('City', fontweight=\"bold\", fontsize = 16, color = 'black' )\n",
    "plt.ylabel('Total Profit', fontweight=\"bold\", fontsize = 16, color = 'black' )\n",
    "plt.title('Total Profit for Cities', fontweight=\"bold\", fontsize = 18, color = 'black' )\n",
    "plt.show()"
   ]
  },
  {
   "cell_type": "markdown",
   "metadata": {},
   "source": [
    "### Q5. What is the total  profit by year ?"
   ]
  },
  {
   "cell_type": "code",
   "execution_count": 47,
   "metadata": {},
   "outputs": [
    {
     "data": {
      "text/plain": [
       "Sales_Year\n",
       "2017    2160416.0\n",
       "2018    1806913.0\n",
       "Name: Profit, dtype: float64"
      ]
     },
     "execution_count": 47,
     "metadata": {},
     "output_type": "execute_result"
    }
   ],
   "source": [
    "total_profit_year = data['Profit'].groupby(data['Sales_Year']).sum()\n",
    "total_profit_year"
   ]
  },
  {
   "cell_type": "code",
   "execution_count": 48,
   "metadata": {},
   "outputs": [
    {
     "data": {
      "image/png": "[encoded data removed]",
      "text/plain": [
       "<Figure size 504x360 with 1 Axes>"
      ]
     },
     "metadata": {},
     "output_type": "display_data"
    }
   ],
   "source": [
    "plt.figure(figsize=(7,5))\n",
    "sns.barplot(x=total_profit_year.index, y=total_profit_year.values)\n",
    "plt.xlabel('Year', fontweight=\"bold\", fontsize = 14, color = 'black' )\n",
    "plt.ylabel('Total Profit', fontweight=\"bold\", fontsize = 14, color = 'black' )\n",
    "plt.title('Total Profit by Year', fontweight=\"bold\", fontsize = 14, color = 'black' )\n",
    "plt.show()"
   ]
  },
  {
   "cell_type": "markdown",
   "metadata": {},
   "source": [
    "### Q6. What is the total profit by year for each store location ?"
   ]
  },
  {
   "cell_type": "code",
   "execution_count": 49,
   "metadata": {},
   "outputs": [
    {
     "data": {
      "text/plain": [
       "Sales_Year\n",
       "2017    1201296.0\n",
       "2018    1020159.0\n",
       "Name: Profit, dtype: float64"
      ]
     },
     "execution_count": 49,
     "metadata": {},
     "output_type": "execute_result"
    }
   ],
   "source": [
    "#total profit by year for Downtown\n",
    "profit_by_year_downtown = data['Profit'][data['Store_Location'] == 'Downtown'].groupby(data['Sales_Year']).sum()\n",
    "profit_by_year_downtown"
   ]
  },
  {
   "cell_type": "code",
   "execution_count": 50,
   "metadata": {},
   "outputs": [
    {
     "data": {
      "text/plain": [
       "Sales_Year\n",
       "2017    510375.0\n",
       "2018    405882.0\n",
       "Name: Profit, dtype: float64"
      ]
     },
     "execution_count": 50,
     "metadata": {},
     "output_type": "execute_result"
    }
   ],
   "source": [
    "#total profit by year for 'Commercial'\n",
    "profit_by_year_commercial = data['Profit'][data['Store_Location'] == 'Commercial'].groupby(data['Sales_Year']).sum()\n",
    "profit_by_year_commercial"
   ]
  },
  {
   "cell_type": "code",
   "execution_count": 51,
   "metadata": {},
   "outputs": [
    {
     "data": {
      "text/plain": [
       "Sales_Year\n",
       "2017    248180.0\n",
       "2018    210255.0\n",
       "Name: Profit, dtype: float64"
      ]
     },
     "execution_count": 51,
     "metadata": {},
     "output_type": "execute_result"
    }
   ],
   "source": [
    "#total profit by year for 'Residential'\n",
    "profit_by_year_residential = data['Profit'][data['Store_Location'] == 'Residential'].groupby(data['Sales_Year']).sum()\n",
    "profit_by_year_residential"
   ]
  },
  {
   "cell_type": "code",
   "execution_count": 52,
   "metadata": {},
   "outputs": [
    {
     "data": {
      "text/plain": [
       "Sales_Year\n",
       "2017    200565.0\n",
       "2018    170617.0\n",
       "Name: Profit, dtype: float64"
      ]
     },
     "execution_count": 52,
     "metadata": {},
     "output_type": "execute_result"
    }
   ],
   "source": [
    "#total profit by year for 'Airport'\n",
    "profit_by_year_airport= data['Profit'][data['Store_Location'] == 'Airport'].groupby(data['Sales_Year']).sum()\n",
    "profit_by_year_airport"
   ]
  },
  {
   "cell_type": "code",
   "execution_count": 53,
   "metadata": {},
   "outputs": [
    {
     "data": {
      "image/png": "[encoded data removed]",
      "text/plain": [
       "<Figure size 576x576 with 4 Axes>"
      ]
     },
     "metadata": {},
     "output_type": "display_data"
    }
   ],
   "source": [
    "fig, axis = plt.subplots(nrows=2,ncols=2, figsize=(8,8))\n",
    "\n",
    "sns.barplot(ax=axis[0,0] ,x=profit_by_year_downtown.index, y=profit_by_year_downtown.values)\n",
    "axis[0,0].set_title('Total Profit for Downtown', fontweight=\"bold\", fontsize = 12, color = 'black')\n",
    "axis[0,0].set_xlabel('Year', fontweight=\"bold\", fontsize = 10, color = 'black')\n",
    "axis[0,0].set_ylabel('Total Profit', fontweight=\"bold\", fontsize = 10, color = 'black')\n",
    "\n",
    "sns.barplot(ax=axis[0,1],x=profit_by_year_commercial.index, y=profit_by_year_commercial.values)\n",
    "axis[0,1].set_title('Total Profit for Commercial',fontweight=\"bold\", fontsize = 12, color = 'black')\n",
    "axis[0,1].set_xlabel('Year',fontweight=\"bold\", fontsize = 10, color = 'black')\n",
    "axis[0,1].set_ylabel('Total Profit',fontweight=\"bold\", fontsize = 10, color = 'black')\n",
    "\n",
    "sns.barplot(ax=axis[1,0],x=profit_by_year_residential.index, y=profit_by_year_residential.values)\n",
    "axis[1,0].set_title('Total Profit for Residential', fontweight=\"bold\", fontsize = 12, color = 'black')\n",
    "axis[1,0].set_xlabel('Year', fontweight=\"bold\", fontsize = 10, color = 'black')\n",
    "axis[1,0].set_ylabel('Total Profit', fontweight=\"bold\", fontsize = 10, color = 'black')\n",
    "\n",
    "sns.barplot(ax=axis[1,1], x=profit_by_year_airport.index, y=profit_by_year_airport.values)\n",
    "axis[1,1].set_title('Total Profit for Airport', fontweight=\"bold\", fontsize = 12, color = 'black')\n",
    "axis[1,1].set_xlabel('Year', fontweight=\"bold\", fontsize = 10, color = 'black')\n",
    "axis[1,1].set_ylabel('Total Profit',fontweight=\"bold\", fontsize = 10, color = 'black')\n",
    "\n",
    "plt.tight_layout()\n",
    "plt.show()"
   ]
  },
  {
   "cell_type": "markdown",
   "metadata": {},
   "source": [
    "### Q7. What is the total profit by month ?"
   ]
  },
  {
   "cell_type": "code",
   "execution_count": 54,
   "metadata": {},
   "outputs": [
    {
     "data": {
      "text/plain": [
       "Sales_Month\n",
       "March        403349.0\n",
       "April        402718.0\n",
       "May          391935.0\n",
       "June         390784.0\n",
       "July         380004.0\n",
       "January      368737.0\n",
       "February     349327.0\n",
       "September    343489.0\n",
       "August       328698.0\n",
       "December     242133.0\n",
       "November     190939.0\n",
       "October      175216.0\n",
       "Name: Profit, dtype: float64"
      ]
     },
     "execution_count": 54,
     "metadata": {},
     "output_type": "execute_result"
    }
   ],
   "source": [
    "#total_profit_by_month = data['Product_Profit'].groupby(data['Sales_Month']).sum()\n",
    "#total_profit_by_month\n",
    "total_profit_by_month = data.groupby(data['Sales_Month'])['Profit'].sum().sort_values(ascending=False)\n",
    "total_profit_by_month"
   ]
  },
  {
   "cell_type": "code",
   "execution_count": 55,
   "metadata": {},
   "outputs": [
    {
     "data": {
      "image/png": "[encoded data removed]",
      "text/plain": [
       "<Figure size 720x504 with 1 Axes>"
      ]
     },
     "metadata": {},
     "output_type": "display_data"
    }
   ],
   "source": [
    "plt.figure(figsize=(10,7))\n",
    "sns.barplot(x=total_profit_by_month.index, y=total_profit_by_month.values)\n",
    "plt.xlabel('Month', fontweight=\"bold\", fontsize = 14, color = 'black' )\n",
    "plt.ylabel('Total Profit', fontweight=\"bold\", fontsize = 14, color = 'black' )\n",
    "plt.title('Total Profit by Month', fontweight=\"bold\", fontsize = 14, color = 'black' )\n",
    "plt.show()"
   ]
  },
  {
   "cell_type": "code",
   "execution_count": 56,
   "metadata": {},
   "outputs": [
    {
     "name": "stdout",
     "output_type": "stream",
     "text": [
      "Minimum Profit is  175216.0\n",
      "Maximum Profit is  403349.0\n"
     ]
    }
   ],
   "source": [
    "# minimum total profit by month\n",
    "min_profit = data['Profit'].groupby(data['Sales_Month']).sum().min()\n",
    "print(\"Minimum Profit is \",min_profit)\n",
    "# maximum total profit by month\n",
    "max_profit = data['Profit'].groupby(data['Sales_Month']).sum().max()\n",
    "print(\"Maximum Profit is \",max_profit)"
   ]
  },
  {
   "cell_type": "markdown",
   "metadata": {},
   "source": [
    "### Q8. What is total profit by day ?"
   ]
  },
  {
   "cell_type": "code",
   "execution_count": 73,
   "metadata": {},
   "outputs": [
    {
     "data": {
      "text/plain": [
       "Sales_Day\n",
       "Sunday       762855.0\n",
       "Saturday     732657.0\n",
       "Friday       601992.0\n",
       "Monday       498798.0\n",
       "Thursday     480792.0\n",
       "Wednesday    454877.0\n",
       "Tuesday      435358.0\n",
       "Name: Profit, dtype: float64"
      ]
     },
     "execution_count": 73,
     "metadata": {},
     "output_type": "execute_result"
    }
   ],
   "source": [
    "total_profit_by_day = data.groupby('Sales_Day')['Profit'].sum().sort_values(ascending=False)\n",
    "total_profit_by_day"
   ]
  },
  {
   "cell_type": "code",
   "execution_count": 74,
   "metadata": {},
   "outputs": [
    {
     "data": {
      "image/png": "[encoded data removed]",
      "text/plain": [
       "<Figure size 720x504 with 1 Axes>"
      ]
     },
     "metadata": {},
     "output_type": "display_data"
    }
   ],
   "source": [
    "plt.figure(figsize=(10,7))\n",
    "sns.barplot(x= total_profit_by_day.index, y=total_profit_by_day.values )\n",
    "plt.xlabel('Day', fontweight=\"bold\", fontsize = 14, color = 'black' )\n",
    "plt.ylabel('Total Profit', fontweight=\"bold\", fontsize = 14, color = 'black' )\n",
    "plt.title('Total Profit by Day', fontweight=\"bold\", fontsize = 14, color = 'black' )\n",
    "plt.show()"
   ]
  },
  {
   "cell_type": "markdown",
   "metadata": {},
   "source": [
    "### Q9. What is the most sold product category ? "
   ]
  },
  {
   "cell_type": "code",
   "execution_count": 57,
   "metadata": {},
   "outputs": [
    {
     "data": {
      "text/plain": [
       "Toys                 221161\n",
       "Art & Crafts         220673\n",
       "Games                150937\n",
       "Sports & Outdoors    131234\n",
       "Electronics           99025\n",
       "Name: Product_Category, dtype: int64"
      ]
     },
     "execution_count": 57,
     "metadata": {},
     "output_type": "execute_result"
    }
   ],
   "source": [
    "category_counts = data['Product_Category'].value_counts()\n",
    "category_counts"
   ]
  },
  {
   "cell_type": "code",
   "execution_count": 58,
   "metadata": {},
   "outputs": [
    {
     "data": {
      "image/png": "[encoded data removed]",
      "text/plain": [
       "<Figure size 504x360 with 1 Axes>"
      ]
     },
     "metadata": {},
     "output_type": "display_data"
    }
   ],
   "source": [
    "plt.figure(figsize=(7,5))\n",
    "sns.barplot(x=category_counts.index, y=category_counts.values)\n",
    "plt.xlabel('Product Category', fontweight=\"bold\", fontsize = 14, color = 'black' )\n",
    "plt.ylabel('Count of Sales', fontweight=\"bold\", fontsize = 14, color = 'black' )\n",
    "plt.title('Product Category Sales', fontweight=\"bold\", fontsize = 14, color = 'black' )\n",
    "plt.show()"
   ]
  },
  {
   "cell_type": "markdown",
   "metadata": {},
   "source": [
    "### Q10. What is the most sold product category for each store location ?  "
   ]
  },
  {
   "cell_type": "code",
   "execution_count": 59,
   "metadata": {},
   "outputs": [
    {
     "data": {
      "text/plain": [
       "Art & Crafts         132474\n",
       "Toys                 130214\n",
       "Games                 85275\n",
       "Sports & Outdoors     76217\n",
       "Electronics           52341\n",
       "Name: Product_Category, dtype: int64"
      ]
     },
     "execution_count": 59,
     "metadata": {},
     "output_type": "execute_result"
    }
   ],
   "source": [
    "category_downtown = data['Product_Category'][data['Store_Location'] == 'Downtown'].value_counts()\n",
    "category_downtown "
   ]
  },
  {
   "cell_type": "code",
   "execution_count": 60,
   "metadata": {},
   "outputs": [
    {
     "data": {
      "text/plain": [
       "Toys                 27267\n",
       "Art & Crafts         25948\n",
       "Games                17150\n",
       "Sports & Outdoors    14963\n",
       "Electronics          10293\n",
       "Name: Product_Category, dtype: int64"
      ]
     },
     "execution_count": 60,
     "metadata": {},
     "output_type": "execute_result"
    }
   ],
   "source": [
    "category_residential = data['Product_Category'][data['Store_Location'] == 'Residential'].value_counts()\n",
    "category_residential"
   ]
  },
  {
   "cell_type": "code",
   "execution_count": 61,
   "metadata": {},
   "outputs": [
    {
     "data": {
      "text/plain": [
       "Toys                 17227\n",
       "Art & Crafts         16537\n",
       "Games                14070\n",
       "Sports & Outdoors    10633\n",
       "Electronics           9178\n",
       "Name: Product_Category, dtype: int64"
      ]
     },
     "execution_count": 61,
     "metadata": {},
     "output_type": "execute_result"
    }
   ],
   "source": [
    "category_airport = data['Product_Category'][data['Store_Location'] == 'Airport'].value_counts()\n",
    "category_airport"
   ]
  },
  {
   "cell_type": "code",
   "execution_count": 62,
   "metadata": {},
   "outputs": [
    {
     "data": {
      "text/plain": [
       "Toys                 46453\n",
       "Art & Crafts         45714\n",
       "Games                34442\n",
       "Sports & Outdoors    29421\n",
       "Electronics          27213\n",
       "Name: Product_Category, dtype: int64"
      ]
     },
     "execution_count": 62,
     "metadata": {},
     "output_type": "execute_result"
    }
   ],
   "source": [
    "category_commercial = data['Product_Category'][data['Store_Location'] == 'Commercial'].value_counts()\n",
    "category_commercial"
   ]
  },
  {
   "cell_type": "code",
   "execution_count": 63,
   "metadata": {},
   "outputs": [
    {
     "data": {
      "image/png": "[encoded data removed]",
      "text/plain": [
       "<Figure size 864x576 with 4 Axes>"
      ]
     },
     "metadata": {},
     "output_type": "display_data"
    }
   ],
   "source": [
    "fig, axis = plt.subplots(nrows=2,ncols=2, figsize=(12,8))\n",
    "\n",
    "sns.barplot(ax=axis[0,0] ,x=category_downtown.index, y=category_downtown.values)\n",
    "axis[0,0].set_title('Product Category sales for Downtown', fontweight=\"bold\", fontsize = 12, color = 'black')\n",
    "axis[0,0].set_xlabel('Category', fontweight=\"bold\", fontsize = 10, color = 'black')\n",
    "axis[0,0].set_ylabel('Counts of Sales', fontweight=\"bold\", fontsize = 10, color = 'black')\n",
    "\n",
    "sns.barplot(ax=axis[0,1],x=category_commercial.index, y=category_commercial.values)\n",
    "axis[0,1].set_title('Product Category sales for Commercial',fontweight=\"bold\", fontsize = 12, color = 'black')\n",
    "axis[0,1].set_xlabel('Category',fontweight=\"bold\", fontsize = 10, color = 'black')\n",
    "axis[0,1].set_ylabel('Counts of Sales', fontweight=\"bold\",fontsize = 10, color = 'black')\n",
    "\n",
    "sns.barplot(ax=axis[1,0],x=category_residential.index, y=category_residential.values)\n",
    "axis[1,0].set_title('Product Category sales for Residential', fontweight=\"bold\", fontsize = 12, color = 'black')\n",
    "axis[1,0].set_xlabel('Category', fontweight=\"bold\", fontsize = 10, color = 'black')\n",
    "axis[1,0].set_ylabel('Counts of Sales', fontweight=\"bold\", fontsize = 10, color = 'black')\n",
    "\n",
    "sns.barplot(ax=axis[1,1], x=category_airport.index, y=category_airport.values)\n",
    "axis[1,1].set_title('Product Category sales for Airport', fontweight=\"bold\", fontsize = 12, color = 'black')\n",
    "axis[1,1].set_xlabel('Category', fontweight=\"bold\", fontsize = 10, color = 'black')\n",
    "axis[1,1].set_ylabel('Counts of Sales',fontweight=\"bold\", fontsize = 10, color = 'black')\n",
    "\n",
    "plt.tight_layout()\n",
    "plt.show()"
   ]
  },
  {
   "cell_type": "code",
   "execution_count": null,
   "metadata": {},
   "outputs": [],
   "source": []
  }
 ],
 "metadata": {
  "celltoolbar": "Raw Cell Format",
  "kernelspec": {
   "display_name": "Python 3",
   "language": "python",
   "name": "python3"
  },
  "language_info": {
   "codemirror_mode": {
    "name": "ipython",
    "version": 3
   },
   "file_extension": ".py",
   "mimetype": "text/x-python",
   "name": "python",
   "nbconvert_exporter": "python",
   "pygments_lexer": "ipython3",
   "version": "3.8.3"
  }
 },
 "nbformat": 4,
 "nbformat_minor": 4
}
